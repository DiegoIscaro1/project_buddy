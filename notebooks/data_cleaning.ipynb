{
 "cells": [
  {
   "cell_type": "code",
   "execution_count": 11,
   "metadata": {},
   "outputs": [
    {
     "name": "stderr",
     "output_type": "stream",
     "text": [
      "[nltk_data] Downloading package stopwords to /Users/admin/nltk_data...\n",
      "[nltk_data]   Package stopwords is already up-to-date!\n",
      "[nltk_data] Downloading package punkt to /Users/admin/nltk_data...\n",
      "[nltk_data]   Package punkt is already up-to-date!\n"
     ]
    },
    {
     "data": {
      "text/plain": [
       "True"
      ]
     },
     "execution_count": 11,
     "metadata": {},
     "output_type": "execute_result"
    }
   ],
   "source": [
    "import pandas as pd\n",
    "import re\n",
    "import nltk\n",
    "nltk.download('stopwords')\n",
    "nltk.download('punkt')"
   ]
  },
  {
   "cell_type": "code",
   "execution_count": 12,
   "metadata": {},
   "outputs": [],
   "source": [
    "import string"
   ]
  },
  {
   "cell_type": "code",
   "execution_count": 13,
   "metadata": {},
   "outputs": [],
   "source": [
    "from nltk.corpus import stopwords, wordnet\n",
    "from nltk.stem import WordNetLemmatizer\n",
    "from nltk import word_tokenize\n"
   ]
  },
  {
   "cell_type": "code",
   "execution_count": 14,
   "metadata": {},
   "outputs": [
    {
     "data": {
      "text/html": [
       "<div>\n",
       "<style scoped>\n",
       "    .dataframe tbody tr th:only-of-type {\n",
       "        vertical-align: middle;\n",
       "    }\n",
       "\n",
       "    .dataframe tbody tr th {\n",
       "        vertical-align: top;\n",
       "    }\n",
       "\n",
       "    .dataframe thead th {\n",
       "        text-align: right;\n",
       "    }\n",
       "</style>\n",
       "<table border=\"1\" class=\"dataframe\">\n",
       "  <thead>\n",
       "    <tr style=\"text-align: right;\">\n",
       "      <th></th>\n",
       "      <th>text</th>\n",
       "      <th>class</th>\n",
       "    </tr>\n",
       "  </thead>\n",
       "  <tbody>\n",
       "    <tr>\n",
       "      <th>0</th>\n",
       "      <td>Ex Wife Threatening SuicideRecently I left my ...</td>\n",
       "      <td>suicide</td>\n",
       "    </tr>\n",
       "    <tr>\n",
       "      <th>1</th>\n",
       "      <td>Am I weird I don't get affected by compliments...</td>\n",
       "      <td>non-suicide</td>\n",
       "    </tr>\n",
       "    <tr>\n",
       "      <th>2</th>\n",
       "      <td>Finally 2020 is almost over... So I can never ...</td>\n",
       "      <td>non-suicide</td>\n",
       "    </tr>\n",
       "    <tr>\n",
       "      <th>3</th>\n",
       "      <td>i need helpjust help me im crying so hard</td>\n",
       "      <td>suicide</td>\n",
       "    </tr>\n",
       "    <tr>\n",
       "      <th>4</th>\n",
       "      <td>I’m so lostHello, my name is Adam (16) and I’v...</td>\n",
       "      <td>suicide</td>\n",
       "    </tr>\n",
       "    <tr>\n",
       "      <th>...</th>\n",
       "      <td>...</td>\n",
       "      <td>...</td>\n",
       "    </tr>\n",
       "    <tr>\n",
       "      <th>232069</th>\n",
       "      <td>If you don't like rock then your not going to ...</td>\n",
       "      <td>non-suicide</td>\n",
       "    </tr>\n",
       "    <tr>\n",
       "      <th>232070</th>\n",
       "      <td>You how you can tell i have so many friends an...</td>\n",
       "      <td>non-suicide</td>\n",
       "    </tr>\n",
       "    <tr>\n",
       "      <th>232071</th>\n",
       "      <td>pee probably tastes like salty tea😏💦‼️ can som...</td>\n",
       "      <td>non-suicide</td>\n",
       "    </tr>\n",
       "    <tr>\n",
       "      <th>232072</th>\n",
       "      <td>The usual stuff you find hereI'm not posting t...</td>\n",
       "      <td>suicide</td>\n",
       "    </tr>\n",
       "    <tr>\n",
       "      <th>232073</th>\n",
       "      <td>I still haven't beaten the first boss in Hollo...</td>\n",
       "      <td>non-suicide</td>\n",
       "    </tr>\n",
       "  </tbody>\n",
       "</table>\n",
       "<p>232074 rows × 2 columns</p>\n",
       "</div>"
      ],
      "text/plain": [
       "                                                     text        class\n",
       "0       Ex Wife Threatening SuicideRecently I left my ...      suicide\n",
       "1       Am I weird I don't get affected by compliments...  non-suicide\n",
       "2       Finally 2020 is almost over... So I can never ...  non-suicide\n",
       "3               i need helpjust help me im crying so hard      suicide\n",
       "4       I’m so lostHello, my name is Adam (16) and I’v...      suicide\n",
       "...                                                   ...          ...\n",
       "232069  If you don't like rock then your not going to ...  non-suicide\n",
       "232070  You how you can tell i have so many friends an...  non-suicide\n",
       "232071  pee probably tastes like salty tea😏💦‼️ can som...  non-suicide\n",
       "232072  The usual stuff you find hereI'm not posting t...      suicide\n",
       "232073  I still haven't beaten the first boss in Hollo...  non-suicide\n",
       "\n",
       "[232074 rows x 2 columns]"
      ]
     },
     "execution_count": 14,
     "metadata": {},
     "output_type": "execute_result"
    }
   ],
   "source": [
    "data = pd.read_csv(\"../raw_data/Suicide_Detection.csv\",index_col=0)\n",
    "data = data.reset_index(drop=True)\n",
    "data"
   ]
  },
  {
   "cell_type": "code",
   "execution_count": 15,
   "metadata": {},
   "outputs": [],
   "source": [
    "from sklearn import preprocessing\n",
    "\n",
    "le = preprocessing.LabelEncoder()\n",
    "data[\"target\"] =  le.fit_transform(data[\"class\"])\n",
    "data = data.drop(columns=\"class\")"
   ]
  },
  {
   "cell_type": "code",
   "execution_count": 16,
   "metadata": {},
   "outputs": [
    {
     "data": {
      "text/html": [
       "<div>\n",
       "<style scoped>\n",
       "    .dataframe tbody tr th:only-of-type {\n",
       "        vertical-align: middle;\n",
       "    }\n",
       "\n",
       "    .dataframe tbody tr th {\n",
       "        vertical-align: top;\n",
       "    }\n",
       "\n",
       "    .dataframe thead th {\n",
       "        text-align: right;\n",
       "    }\n",
       "</style>\n",
       "<table border=\"1\" class=\"dataframe\">\n",
       "  <thead>\n",
       "    <tr style=\"text-align: right;\">\n",
       "      <th></th>\n",
       "      <th>text</th>\n",
       "      <th>target</th>\n",
       "    </tr>\n",
       "  </thead>\n",
       "  <tbody>\n",
       "    <tr>\n",
       "      <th>0</th>\n",
       "      <td>Ex Wife Threatening SuicideRecently I left my ...</td>\n",
       "      <td>1</td>\n",
       "    </tr>\n",
       "    <tr>\n",
       "      <th>1</th>\n",
       "      <td>Am I weird I don't get affected by compliments...</td>\n",
       "      <td>0</td>\n",
       "    </tr>\n",
       "    <tr>\n",
       "      <th>2</th>\n",
       "      <td>Finally 2020 is almost over... So I can never ...</td>\n",
       "      <td>0</td>\n",
       "    </tr>\n",
       "    <tr>\n",
       "      <th>3</th>\n",
       "      <td>i need helpjust help me im crying so hard</td>\n",
       "      <td>1</td>\n",
       "    </tr>\n",
       "    <tr>\n",
       "      <th>4</th>\n",
       "      <td>I’m so lostHello, my name is Adam (16) and I’v...</td>\n",
       "      <td>1</td>\n",
       "    </tr>\n",
       "    <tr>\n",
       "      <th>...</th>\n",
       "      <td>...</td>\n",
       "      <td>...</td>\n",
       "    </tr>\n",
       "    <tr>\n",
       "      <th>95</th>\n",
       "      <td>day 3 of posting something i get mildly infuri...</td>\n",
       "      <td>0</td>\n",
       "    </tr>\n",
       "    <tr>\n",
       "      <th>96</th>\n",
       "      <td>A lot of stuff to handle at once for me \\nSorr...</td>\n",
       "      <td>0</td>\n",
       "    </tr>\n",
       "    <tr>\n",
       "      <th>97</th>\n",
       "      <td>I'm going to wait for a version of senorita In...</td>\n",
       "      <td>0</td>\n",
       "    </tr>\n",
       "    <tr>\n",
       "      <th>98</th>\n",
       "      <td>You know I just realized you cant have an opin...</td>\n",
       "      <td>0</td>\n",
       "    </tr>\n",
       "    <tr>\n",
       "      <th>99</th>\n",
       "      <td>2929\\n\\n\\nThat’s the oldest I’ve ever been. It...</td>\n",
       "      <td>1</td>\n",
       "    </tr>\n",
       "  </tbody>\n",
       "</table>\n",
       "<p>100 rows × 2 columns</p>\n",
       "</div>"
      ],
      "text/plain": [
       "                                                 text  target\n",
       "0   Ex Wife Threatening SuicideRecently I left my ...       1\n",
       "1   Am I weird I don't get affected by compliments...       0\n",
       "2   Finally 2020 is almost over... So I can never ...       0\n",
       "3           i need helpjust help me im crying so hard       1\n",
       "4   I’m so lostHello, my name is Adam (16) and I’v...       1\n",
       "..                                                ...     ...\n",
       "95  day 3 of posting something i get mildly infuri...       0\n",
       "96  A lot of stuff to handle at once for me \\nSorr...       0\n",
       "97  I'm going to wait for a version of senorita In...       0\n",
       "98  You know I just realized you cant have an opin...       0\n",
       "99  2929\\n\\n\\nThat’s the oldest I’ve ever been. It...       1\n",
       "\n",
       "[100 rows x 2 columns]"
      ]
     },
     "execution_count": 16,
     "metadata": {},
     "output_type": "execute_result"
    }
   ],
   "source": [
    "data_short = data.head(100)\n",
    "data_short\n"
   ]
  },
  {
   "cell_type": "code",
   "execution_count": 17,
   "metadata": {},
   "outputs": [],
   "source": [
    "# Clean the data\n",
    "def clean_text(sentence):\n",
    "    sentence = sentence.strip()\n",
    "    sentence = ' '.join(re.split(r'(?<=[a-z])(?=[A-Z])', sentence))\n",
    "    sentence = sentence.lower()\n",
    "    sentence = re.sub(r'[^\\w\\s]',' ',sentence)\n",
    "    sentence = ''.join(char for char in sentence if not char.isdigit())\n",
    "    tokenized = word_tokenize(sentence) # Tokenize\n",
    "    stop_words = set(stopwords.words('english')) # Make stopword list\n",
    "    without_stopwords = [word for word in tokenized if not word in stop_words] # Remove Stop Words\n",
    "    lemma=WordNetLemmatizer() # Initiate Lemmatizer\n",
    "    lemmatized = [lemma.lemmatize(word) for word in without_stopwords] # Lemmatize\n",
    "    cleaned = ' '.join(lemmatized) # Join back to a string\n",
    "    return cleaned\n"
   ]
  },
  {
   "cell_type": "code",
   "execution_count": 19,
   "metadata": {},
   "outputs": [
    {
     "data": {
      "text/plain": [
       "'2929\\n\\n\\nThat’s the oldest I’ve ever been. It’s the oldest I’m ever meant to be.\\n\\n\\nI don’t remember when I had the first dream. It probably happened when I was so young that I wouldn’t even be able to remember. They are always fragmented and real… Real in the way that when it ends, your eyes open and you’re lying in bed wondering.\\n\\n\\n“Did I just wake up… or just fall asleep.”\\n\\n\\nThe fragments don’t seem to follow a timeline; just clips like a hazy recollection of a night out. Remembering moments out of a long series of events.\\n\\n\\nIn these dreams, I’ve seen the events of my life, tragic and wonderful, play out before me. Sometimes months or years before they are experienced in the chronological timeline.\\n\\n\\nIt took time to get used to having these dreams; especially the dark ones, the ones where a friend or family member passes and I’m forced to spectate as a silent observer in their final moments. It wasn’t until my teens that I felt like I understood what they were. As stupid as it sounds, clairvoyance runs in the family. If you believe in that type of thing. I’ve cousins who experience the same. We’ve talked about them, shared our different perspectives of events yet to come and those that we didn’t understand until the timeline unfolded in front of us.\\n\\n\\n29\\n\\n\\nOut of the thousands of dreams, every one of which that has so far played in my synapses, not one of them shows me past the age of 29. My 30th birthday is now less than 60 days away.\\n\\n\\nI’ve lived with suicidal ideation for nearly two decades now. Before I had ever met my wife, I had come to a decision. I wasn’t going to live past the age of 27, in fact I was going to end my life on my 27th birthday. I can’t say for certain why I chose 27… Partially because I was an angst filled young adult who thought if I was going to die young, I should join the group of others who died famously young at 27 (except I’m far from famous). 27 also happens to be my favorite number, I could not tell you why, I’ve always just been drawn to it.\\n\\n\\nWhen my 27th birthday rolled around I was a newlywed of 3 months. To say that ending my life on that day was the last thing on my mind then would be to lie to you. The plan I’d concocted still toiled about in my brain that day. But my plans had changed.\\n\\n\\n29\\n\\n\\nIt began to stand out in my mind that the dreams never showed me past a certain age. The limit was always twenty-nine. There are none where I’m a proud father, watching my children go. None of me in my golden years enjoying life with my wife who’s aged so much better than I over the years. After 29, they just stop.\\n\\n\\nWe fixate on negatives, humans that is. It’s an exercise in willpower and determination to train ourselves to focus on the positives in life and not dwell on the negatives. I’m far from being a master at this myself.\\n\\n\\n“Why don’t I see myself as older than 29 in any of these?”\\n\\n\\nIs it because that’s when my story ends? Will my life be destined to have a dash between 1987 -2017? Am I finally going to break in the next two months and have the gumption to take my own piece off the game board?\\n\\n\\nOr is it something more positive… Does the family’s clairvoyant trait only take us so far in life? Is it a gift we are given to be shown, in part, the events of our future that will violently shape the people we will become? Glimpses to show us that, no matter how low and dark things are going to get, you are going to make it through this?\\n\\n\\nMaybe we aren’t clairvoyant. Odds are it’s just the family disposition for schizophrenia, another wonderful future to look forward to thanks to inherited genetics. I’ve already been dealing with auditory hallucinations since childhood, though one might argue those spawned from abuse and not genetics.\\n\\n\\nIs it going to end at 29… am I going to see the other side of 30? If I don’t, is it going to be my own doing? Maybe I’m not allowed to see how my own story ends, not until I experience it first hand, so as to not spoil the moment.\\n\\n\\nI don’t make a conscious effort to avoid my suicidal ideation. I did at one point, but then I accepted that part myself. The part that feels, knows, that suicide is an option. I can’t say I go more than a week without at least the tiniest thought of it coming into my mind. That thought of throwing yourself into the void when staring into it. The thoughts just happen and like other thoughts they are sometimes discarded immediately. Others are turned and inspected; what-if situations played out over and over.\\n\\n\\n“How would she react?”\\n\\n\\n“What would the funeral look like?”\\n\\n\\nHow many dominos would fall if I cast my own down? Some may topple like my own, but there would be many that would wobble for ages… Likely never settling back down into their original position.\\n\\n\\nThat’s the hardest hurdle for me, in regard to bringing myself to committing to ending it myself. My empathy for those in my life, knowing or at least thinking I know how my life ending would impact theirs. More so if it was self-inflicted.\\n\\n\\nIt has always been easy to hurt myself. Intentionally hurting others that I care about though, has always felt impossible. I know I’ve caused harm to them without the intention of doing so and felt immense guilt after the fact, again and again. So I’ve never been able to follow through with a plan because of the line of thinking that happens at that point of the planning.\\n\\n\\nWithin the next two months am I going to finally disregard others’ feelings and selfishly satisfy my own, I’m not even sure what to call it, desire or what I believe to be my stories already written ending? Perhaps it does end, but not by any doing of myself. Just the chaos of existence.\\n\\n\\nWith some luck, maybe… Just maybe 29 isn’t the end… It’s just a new beginning.\\n'"
      ]
     },
     "execution_count": 19,
     "metadata": {},
     "output_type": "execute_result"
    }
   ],
   "source": [
    "data_short.iloc[99,0]"
   ]
  },
  {
   "cell_type": "code",
   "execution_count": 20,
   "metadata": {},
   "outputs": [
    {
     "data": {
      "text/plain": [
       "'    \\n\\n\\n oldest ever   oldest ever meant \\n\\n\\n remember first dream   probably happened young even able remember   always fragmented real   real way ends   eyes open lying bed wondering \\n\\n\\n  wake   fall asleep  \\n\\n\\n fragments seem follow timeline   clips like hazy recollection night   remembering moments long series events \\n\\n\\n dreams   seen events life   tragic wonderful   play   sometimes months years experienced chronological timeline \\n\\n\\n took time get used dreams   especially dark ones   ones friend family member passes forced spectate silent observer final moments   teens felt like understood   stupid sounds   clairvoyance runs family   believe type thing   cousins experience   talked   shared different perspectives events yet come understand timeline unfolded front us \\n\\n\\n  \\n\\n\\n thousands dreams   every one far played synapses   one shows past age         th birthday less     days away \\n\\n\\n lived suicidal ideation nearly two decades   ever met wife   come decision   going live past age      fact going end life    th birthday   say certain chose      partially angst filled young adult thought going die young   join group others died famously young      except far famous       also happens favorite number   could tell   always drawn \\n\\n\\n    th birthday rolled around newlywed    months   say ending life day last thing mind would lie   plan concocted still toiled brain day   plans changed \\n\\n\\n  \\n\\n\\n began stand mind dreams never showed past certain age   limit always twenty nine   none proud father   watching children go   none golden years enjoying life wife aged much better years        stop \\n\\n\\n fixate negatives   humans   exercise willpower determination train focus positives life dwell negatives   far master \\n\\n\\n  see older      \\n\\n\\n story ends   life destined dash              finally going break next two months gumption take piece game board \\n\\n\\n something positive   family clairvoyant trait take us far life   gift given shown   part   events future violently shape people become   glimpses show us   matter low dark things going get   going make \\n\\n\\n maybe clairvoyant   odds family disposition schizophrenia   another wonderful future look forward thanks inherited genetics   already dealing auditory hallucinations since childhood   though one might argue spawned abuse genetics \\n\\n\\n going end      going see side        going   maybe allowed see story ends   experience first hand   spoil moment \\n\\n\\n make conscious effort avoid suicidal ideation   one point   accepted part   part feels   knows   suicide option   say go week without least tiniest thought coming mind   thought throwing void staring   thoughts happen like thoughts sometimes discarded immediately   others turned inspected   situations played \\n\\n\\n  would react  \\n\\n\\n  would funeral look like  \\n\\n\\n many dominos would fall cast   may topple like   would many would wobble ages   likely never settling back original position \\n\\n\\n hardest hurdle   regard bringing committing ending   empathy life   knowing least thinking know life ending would impact   self inflicted \\n\\n\\n always easy hurt   intentionally hurting others care though   always felt impossible   know caused harm without intention felt immense guilt fact     never able follow plan line thinking happens point planning \\n\\n\\n within next two months going finally disregard others   feelings selfishly satisfy   even sure call   desire believe stories already written ending   perhaps end     chaos existence \\n\\n\\n luck   maybe   maybe     end   new beginning'"
      ]
     },
     "execution_count": 20,
     "metadata": {},
     "output_type": "execute_result"
    }
   ],
   "source": []
  }
 ],
 "metadata": {
  "kernelspec": {
   "display_name": "project_buddy",
   "language": "python",
   "name": "python3"
  },
  "language_info": {
   "codemirror_mode": {
    "name": "ipython",
    "version": 3
   },
   "file_extension": ".py",
   "mimetype": "text/x-python",
   "name": "python",
   "nbconvert_exporter": "python",
   "pygments_lexer": "ipython3",
   "version": "3.10.6"
  }
 },
 "nbformat": 4,
 "nbformat_minor": 2
}
